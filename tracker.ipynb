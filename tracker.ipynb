{
 "cells": [
  {
   "cell_type": "code",
   "execution_count": null,
   "metadata": {},
   "outputs": [],
   "source": [
    "from bs4 import BeautifulSoup\n",
    "from datetime import date\n",
    "import matplotlib.pyplot as plt\n",
    "import pandas as pd\n",
    "import re\n",
    "import requests"
   ]
  },
  {
   "cell_type": "markdown",
   "metadata": {},
   "source": [
    "## Inicializando variáveis e carregando carteira"
   ]
  },
  {
   "cell_type": "code",
   "execution_count": null,
   "metadata": {},
   "outputs": [],
   "source": [
    "url = 'https://conteudos.xpi.com.br/acoes/'\n",
    "regex = r\"\\d*,\\d*\"\n",
    "today = date.today().strftime(\"%d/%m/%Y\")\n",
    "index = 0\n",
    "rentability_analysis = {}\n",
    "\n",
    "try:\n",
    "    stocks = pd.read_csv('stocks.csv')\n",
    "except FileNotFoundError:\n",
    "    stocks = pd.DataFrame(columns=['date', 'code', 'price'])"
   ]
  },
  {
   "cell_type": "code",
   "execution_count": null,
   "metadata": {},
   "outputs": [],
   "source": [
    "stock_list = stocks['code'].unique().tolist()\n",
    "stock_list"
   ]
  },
  {
   "cell_type": "markdown",
   "metadata": {},
   "source": [
    "## Recebendo dados atuais"
   ]
  },
  {
   "cell_type": "code",
   "execution_count": null,
   "metadata": {},
   "outputs": [],
   "source": [
    "for item in stock_list:\n",
    "    r = requests.get(url + item)\n",
    "    soup = BeautifulSoup(r.text, 'html.parser')\n",
    "    current_price = soup.select('.dados-produto li')[0].get_text()\n",
    "    current_price = re.findall(regex, current_price)[0]\n",
    "    current_price = re.sub(r',', '.', current_price)\n",
    "    stocks = stocks.append({\n",
    "        'date': today,\n",
    "        'code': item,\n",
    "        'current_price': float(current_price)\n",
    "    }, ignore_index=True)"
   ]
  },
  {
   "cell_type": "markdown",
   "metadata": {},
   "source": [
    "## Cálculo de rentabilidade\n",
    "A rentabilidade é exibida em dados percentuais."
   ]
  },
  {
   "cell_type": "code",
   "execution_count": null,
   "metadata": {},
   "outputs": [],
   "source": [
    "for element in stock_list:\n",
    "    start_date = min(stocks[stocks['code'] == element]['date'])\n",
    "    end_date = max(stocks[stocks['code'] == element]['date'])\n",
    "    \n",
    "    start_price = stocks[(stocks['date'] == start_date) & (stocks['code'] == element)]['current_price'].values[0]\n",
    "    end_price = stocks[(stocks['date'] == end_date) & (stocks['code'] == element)]['current_price'].values[0]\n",
    "    rentability = ((end_price/start_price) - 1) * 100\n",
    "    \n",
    "    rentability_analysis[element] = rentability\n",
    "\n",
    "display(rentability_analysis)"
   ]
  },
  {
   "cell_type": "markdown",
   "metadata": {},
   "source": [
    "## Visualização"
   ]
  },
  {
   "cell_type": "code",
   "execution_count": null,
   "metadata": {},
   "outputs": [],
   "source": [
    "for element in stock_list:\n",
    "    print(f'Ação: {element.upper()}')\n",
    "    print(f'Rentabilidade total: {rentability_analysis[element]:.2f}%')\n",
    "    stocks[stocks['code'] == element].plot(x='date', y='current_price')\n",
    "    plt.show()"
   ]
  },
  {
   "cell_type": "markdown",
   "metadata": {},
   "source": [
    "## Salva resultados"
   ]
  },
  {
   "cell_type": "code",
   "execution_count": null,
   "metadata": {},
   "outputs": [],
   "source": [
    "stocks.to_csv('stocks.csv', index=False)"
   ]
  }
 ],
 "metadata": {
  "kernelspec": {
   "display_name": "Python 3",
   "language": "python",
   "name": "python3"
  },
  "language_info": {
   "codemirror_mode": {
    "name": "ipython",
    "version": 3
   },
   "file_extension": ".py",
   "mimetype": "text/x-python",
   "name": "python",
   "nbconvert_exporter": "python",
   "pygments_lexer": "ipython3",
   "version": "3.7.6"
  }
 },
 "nbformat": 4,
 "nbformat_minor": 4
}
